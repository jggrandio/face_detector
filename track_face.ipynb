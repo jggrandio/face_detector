{
 "cells": [
  {
   "cell_type": "code",
   "execution_count": 1,
   "metadata": {},
   "outputs": [],
   "source": [
    "from pathlib import Path\n",
    "from facenet_pytorch import MTCNN, InceptionResnetV1, extract_face\n",
    "import torch\n",
    "import torchvision.transforms as T\n",
    "import cv2\n",
    "from PIL import Image\n",
    "\n",
    "import os"
   ]
  },
  {
   "cell_type": "code",
   "execution_count": 19,
   "metadata": {},
   "outputs": [],
   "source": [
    "people_path = 'data/faces'\n",
    "\n",
    "# Minimun similarity\n",
    "sim_threshold = 0.4\n",
    "\n",
    "#OpenCV parameters\n",
    "font = cv2.FONT_HERSHEY_SIMPLEX\n",
    "BRG_color = (0,0,255)\n",
    "thickness = 2\n",
    "text_y_offset = -10\n"
   ]
  },
  {
   "cell_type": "code",
   "execution_count": 20,
   "metadata": {},
   "outputs": [
    {
     "name": "stdout",
     "output_type": "stream",
     "text": [
      "Running on device: cuda:0\n"
     ]
    }
   ],
   "source": [
    "# Check if gpu available and if yes, use it\n",
    "device = torch.device('cuda:0' if torch.cuda.is_available() else 'cpu')\n",
    "print('Running on device: {}'.format(device))"
   ]
  },
  {
   "cell_type": "code",
   "execution_count": 21,
   "metadata": {},
   "outputs": [],
   "source": [
    "# Initialize networks\n",
    "mtcnn = MTCNN(keep_all=True, post_process=True, device=device)\n",
    "resnet = InceptionResnetV1(pretrained='vggface2').eval().to(device)\n"
   ]
  },
  {
   "cell_type": "code",
   "execution_count": 22,
   "metadata": {},
   "outputs": [],
   "source": [
    "# helper functions\n",
    "cos_sim = torch.nn.CosineSimilarity()\n",
    "convert_tensor = T.ToTensor()"
   ]
  },
  {
   "cell_type": "code",
   "execution_count": 23,
   "metadata": {},
   "outputs": [],
   "source": [
    "# Calculate available faces embedings\n",
    "\n",
    "names = []\n",
    "sample_embedings = []\n",
    "\n",
    "for name in os.listdir(people_path):\n",
    "    filename = Path(name)\n",
    "    names.append(filename.with_suffix(''))\n",
    "    img = Image.open(os.path.join(people_path,name))\n",
    "    sample_embedings.append(resnet((convert_tensor(img).unsqueeze(0)).to(device)))"
   ]
  },
  {
   "cell_type": "code",
   "execution_count": 24,
   "metadata": {},
   "outputs": [],
   "source": [
    "# Make it torch tensor\n",
    "sample_embedings = torch.vstack(sample_embedings)"
   ]
  },
  {
   "cell_type": "code",
   "execution_count": 37,
   "metadata": {},
   "outputs": [],
   "source": [
    "# Capture webcam\n",
    "capture = cv2.VideoCapture(0)\n",
    "\n",
    "while (capture.isOpened()):\n",
    "\n",
    "    # Read camera\n",
    "    ret, frame = capture.read()\n",
    "\n",
    "    #Get face boxes\n",
    "    frame_RGB = cv2.cvtColor(frame, cv2.COLOR_BGR2RGB)\n",
    "    boxes, _ = mtcnn.detect(frame_RGB)\n",
    "    \n",
    "\n",
    "    if not(boxes is None):\n",
    "        #Iterate over the faces detected\n",
    "        for box in boxes:\n",
    "            \n",
    "            # Draw Rectangle in video\n",
    "            cv2.rectangle(frame,(int(box[0]),int(box[1])),(int(box[2]),int(box[3])),color=BRG_color, thickness=thickness)\n",
    "            \n",
    "            # Get face and compare with existing ones\n",
    "            face = extract_face(frame_RGB, box)/255.\n",
    "            emb = resnet(face.unsqueeze(0).to(device))\n",
    "            sims = cos_sim(emb, sample_embedings)\n",
    "\n",
    "            # Get the highest similitude and check if high enough\n",
    "            max_sim_idx = torch.argmax(sims)\n",
    "\n",
    "            if sims[max_sim_idx]>sim_threshold:\n",
    "                cv2.putText(frame, text=str(names[max_sim_idx]), org=(int(box[0]),int(box[1])+text_y_offset), fontFace=font, fontScale=thickness, color=BRG_color)\n",
    "                # cv2.putText(frame, text=str(float(sims[max_sim_idx].cpu())), org=(int(box[0]),int(box[1])+200), fontFace=font, fontScale=thickness, color=BRG_color)\n",
    "            \n",
    "            else:\n",
    "                cv2.putText(frame, text='unknown', org= (int(box[0]),int(box[1])+text_y_offset), fontFace=font, fontScale=thickness, color=BRG_color)\n",
    "    \n",
    "    #Show the image\n",
    "    cv2.imshow('webCam',frame)\n",
    "\n",
    "    #Press s key to stop\n",
    "    if (cv2.waitKey(1) == ord('s')):\n",
    "        break\n",
    "\n",
    "capture.release()\n",
    "cv2.destroyAllWindows()"
   ]
  }
 ],
 "metadata": {
  "kernelspec": {
   "display_name": "Python 3.7.5 ('env': venv)",
   "language": "python",
   "name": "python3"
  },
  "language_info": {
   "codemirror_mode": {
    "name": "ipython",
    "version": 3
   },
   "file_extension": ".py",
   "mimetype": "text/x-python",
   "name": "python",
   "nbconvert_exporter": "python",
   "pygments_lexer": "ipython3",
   "version": "3.7.5"
  },
  "orig_nbformat": 4,
  "vscode": {
   "interpreter": {
    "hash": "612cc562af43790af71926c76e3268a121b3c535764cc6df78be4bcf9c493aa5"
   }
  }
 },
 "nbformat": 4,
 "nbformat_minor": 2
}
