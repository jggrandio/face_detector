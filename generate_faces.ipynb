{
 "cells": [
  {
   "cell_type": "code",
   "execution_count": 24,
   "id": "1589b3ed-e75a-41c9-b788-b9ed915c4457",
   "metadata": {},
   "outputs": [],
   "source": [
    "from facenet_pytorch import MTCNN\n",
    "from PIL import Image\n",
    "import os"
   ]
  },
  {
   "cell_type": "code",
   "execution_count": 25,
   "id": "0f4fb877-ddf2-4575-ba34-e150b043fd1a",
   "metadata": {},
   "outputs": [],
   "source": [
    "# Define input and output images\n",
    "input_image = 'data/full_images/raissa.jpeg'\n",
    "output_image = 'data/faces/Raissa.jpg'\n"
   ]
  },
  {
   "cell_type": "code",
   "execution_count": 26,
   "id": "b804b1f9-b6c9-4881-b155-850bfc8e3ce4",
   "metadata": {},
   "outputs": [],
   "source": [
    "mtcnn = MTCNN()"
   ]
  },
  {
   "cell_type": "code",
   "execution_count": 27,
   "id": "8e3e5c16-c11a-437f-924d-e4d77c0b2e0c",
   "metadata": {},
   "outputs": [],
   "source": [
    "# Get the biggest face from the input image and save it in the output\n",
    "img = Image.open(input_image)\n",
    "img_cropped = mtcnn(img, save_path=output_image)"
   ]
  },
  {
   "cell_type": "code",
   "execution_count": null,
   "id": "816fbd91",
   "metadata": {},
   "outputs": [],
   "source": []
  }
 ],
 "metadata": {
  "kernelspec": {
   "display_name": "Python 3.7.5 ('env': venv)",
   "language": "python",
   "name": "python3"
  },
  "language_info": {
   "codemirror_mode": {
    "name": "ipython",
    "version": 3
   },
   "file_extension": ".py",
   "mimetype": "text/x-python",
   "name": "python",
   "nbconvert_exporter": "python",
   "pygments_lexer": "ipython3",
   "version": "3.7.5"
  },
  "vscode": {
   "interpreter": {
    "hash": "612cc562af43790af71926c76e3268a121b3c535764cc6df78be4bcf9c493aa5"
   }
  }
 },
 "nbformat": 4,
 "nbformat_minor": 5
}
